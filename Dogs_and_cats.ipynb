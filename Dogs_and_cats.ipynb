{
  "nbformat": 4,
  "nbformat_minor": 0,
  "metadata": {
    "colab": {
      "provenance": [],
      "collapsed_sections": [],
      "mount_file_id": "1GbAYSeN9vWkj-TDnQ9nsOrVZlBaiFHT_",
      "authorship_tag": "ABX9TyMoM53OW8T4UYLj/EOwb7KV",
      "include_colab_link": true
    },
    "kernelspec": {
      "name": "python3",
      "display_name": "Python 3"
    },
    "language_info": {
      "name": "python"
    },
    "accelerator": "GPU",
    "gpuClass": "standard"
  },
  "cells": [
    {
      "cell_type": "markdown",
      "metadata": {
        "id": "view-in-github",
        "colab_type": "text"
      },
      "source": [
        "<a href=\"https://colab.research.google.com/github/Ersel26/Dogs-and-cats-detection/blob/main/Dogs_and_cats.ipynb\" target=\"_parent\"><img src=\"https://colab.research.google.com/assets/colab-badge.svg\" alt=\"Open In Colab\"/></a>"
      ]
    },
    {
      "cell_type": "code",
      "execution_count": 7,
      "metadata": {
        "id": "Lehvt9s57aWM"
      },
      "outputs": [],
      "source": [
        "import numpy as np\n",
        "import matplotlib.pyplot as plt\n",
        "import os\n",
        "import cv2"
      ]
    },
    {
      "cell_type": "code",
      "source": [
        "DATADIR = r\"/content/drive/MyDrive/Colab Notebooks/cats-and-dogs/PetImages\"\n",
        "\n",
        "CATEGORIES = [\"Cat\", \"Dog\"]"
      ],
      "metadata": {
        "id": "C4QMX0Ng7emx"
      },
      "execution_count": 8,
      "outputs": []
    },
    {
      "cell_type": "code",
      "source": [
        "IMG_SIZE = 75\n",
        "training_data = []\n",
        "\n",
        "def create_train_data(training_data, IMG_SIZE):\n",
        "    for c in CATEGORIES:\n",
        "        path = path = DATADIR + \"/\" + c\n",
        "        class_name = CATEGORIES.index(c)\n",
        "        for img in os.listdir(path):\n",
        "            \n",
        "            try:\n",
        "                img_arr = cv2.imread(\n",
        "                    os.path.join(path, img),\n",
        "                    cv2.IMREAD_GRAYSCALE)\n",
        "                img_arr = cv2.resize(img_arr, (IMG_SIZE, IMG_SIZE))\n",
        "\n",
        "                data = [img_arr, class_name]\n",
        "                training_data.append(data)\n",
        "            except Exception as e:\n",
        "                pass  "
      ],
      "metadata": {
        "id": "1-9Ctqix7e4R"
      },
      "execution_count": 9,
      "outputs": []
    },
    {
      "cell_type": "code",
      "source": [
        "create_train_data(training_data, IMG_SIZE)"
      ],
      "metadata": {
        "id": "GH7nOsJT7fFn"
      },
      "execution_count": 10,
      "outputs": []
    },
    {
      "cell_type": "code",
      "source": [
        "import random\n",
        "\n",
        "random.shuffle(training_data)"
      ],
      "metadata": {
        "id": "HuTgzof77fZu"
      },
      "execution_count": 11,
      "outputs": []
    },
    {
      "cell_type": "code",
      "source": [
        "X = []\n",
        "y = []\n",
        "\n",
        "for features,label in training_data:\n",
        "    X.append(features)\n",
        "    y.append(label)\n",
        "\n",
        "X = np.array(X).reshape(-1, IMG_SIZE, IMG_SIZE, 1)\n",
        "y = np.array(y)\n",
        "\n",
        "X = X/255.0"
      ],
      "metadata": {
        "id": "VxuO0bsp8RXr"
      },
      "execution_count": 30,
      "outputs": []
    },
    {
      "cell_type": "code",
      "source": [
        "from sklearn.model_selection import train_test_split"
      ],
      "metadata": {
        "id": "fU0XyK8J8SCv"
      },
      "execution_count": 31,
      "outputs": []
    },
    {
      "cell_type": "code",
      "source": [
        "X_train, X_test, y_train, y_test = train_test_split(X, y, test_size=0.20, random_state=42)\n",
        "#X_train, X_val, y_train, y_val = train_test_split(X_train, y_train, test_size=0.25, random_state=101)"
      ],
      "metadata": {
        "id": "6oZb4thm8SZg"
      },
      "execution_count": 32,
      "outputs": []
    },
    {
      "cell_type": "code",
      "source": [
        "import tensorflow as tf\n",
        "from tensorflow.keras.models import Sequential\n",
        "from tensorflow.keras.layers import Dense, Dropout, Flatten, Conv2D, MaxPooling2D"
      ],
      "metadata": {
        "id": "32CWETnj8S24"
      },
      "execution_count": 15,
      "outputs": []
    },
    {
      "cell_type": "code",
      "source": [
        "model = Sequential()\n",
        "\n",
        "model.add(Conv2D(filters = 256,\n",
        "                kernel_size = (3,3),\n",
        "                strides = (1,1),\n",
        "                padding = \"same\",\n",
        "                activation = \"relu\",\n",
        "                input_shape=X.shape[1:]))\n",
        "\n",
        "model.add(MaxPooling2D(pool_size = (2,2)))\n",
        "\n",
        "model.add(Conv2D(filters = 256,\n",
        "                kernel_size = (3,3),\n",
        "                strides = (1,1),\n",
        "                padding = \"same\",\n",
        "                activation = \"relu\",\n",
        "                input_shape=X.shape[1:]))\n",
        "\n",
        "model.add(MaxPooling2D(pool_size = (2,2)))\n",
        "\n",
        "\n",
        "model.add(Flatten())\n",
        "\n",
        "\n",
        "model.add(Dense(units = 64,\n",
        "               activation = \"relu\"))\n",
        "\n",
        "model.add(Dropout(rate = 0.3))\n",
        "\n",
        "model.add(Dense(units = 32,\n",
        "               activation = \"relu\"))\n",
        "\n",
        "model.add(Dropout(rate = 0.3))\n",
        "\n",
        "model.add(Dense(units = 16,\n",
        "               activation = \"relu\"))\n",
        "\n",
        "model.add(Dropout(rate = 0.3))\n",
        "\n",
        "model.add(Dense(units = 1,\n",
        "               activation = \"sigmoid\"))"
      ],
      "metadata": {
        "id": "2ifO6R5k9Pmo"
      },
      "execution_count": 34,
      "outputs": []
    },
    {
      "cell_type": "code",
      "source": [
        "model.compile(\n",
        "    optimizer = \"adam\",\n",
        "    loss = \"binary_crossentropy\",\n",
        "    metrics = [\"accuracy\"]\n",
        ")"
      ],
      "metadata": {
        "id": "ZOnlh0PL9P92"
      },
      "execution_count": 35,
      "outputs": []
    },
    {
      "cell_type": "code",
      "source": [
        "from tensorflow.keras.callbacks import EarlyStopping\n",
        "early_stop = EarlyStopping(monitor = \"val_loss\", mode = \"min\", verbose = 1, patience = 5)"
      ],
      "metadata": {
        "id": "h_PCwTPV9UvZ"
      },
      "execution_count": 18,
      "outputs": []
    },
    {
      "cell_type": "code",
      "source": [
        "model.fit(\n",
        "    x = X_train,\n",
        "    y = y_train,\n",
        "    batch_size = 128,\n",
        "    epochs = 25,\n",
        "    validation_split = 0.15,\n",
        "    callbacks = [early_stop]\n",
        ")"
      ],
      "metadata": {
        "id": "fy-e7wLh9VF4",
        "colab": {
          "base_uri": "https://localhost:8080/"
        },
        "outputId": "1d45765d-f7b6-4dc7-9d16-2e1ecf4fb9b6"
      },
      "execution_count": 36,
      "outputs": [
        {
          "output_type": "stream",
          "name": "stdout",
          "text": [
            "Epoch 1/25\n",
            "133/133 [==============================] - 32s 161ms/step - loss: 0.6932 - accuracy: 0.5121 - val_loss: 0.6867 - val_accuracy: 0.5494\n",
            "Epoch 2/25\n",
            "133/133 [==============================] - 19s 147ms/step - loss: 0.6658 - accuracy: 0.6004 - val_loss: 0.6416 - val_accuracy: 0.6552\n",
            "Epoch 3/25\n",
            "133/133 [==============================] - 20s 147ms/step - loss: 0.6150 - accuracy: 0.6739 - val_loss: 0.5795 - val_accuracy: 0.7056\n",
            "Epoch 4/25\n",
            "133/133 [==============================] - 20s 148ms/step - loss: 0.5679 - accuracy: 0.7181 - val_loss: 0.5373 - val_accuracy: 0.7286\n",
            "Epoch 5/25\n",
            "133/133 [==============================] - 20s 149ms/step - loss: 0.5180 - accuracy: 0.7525 - val_loss: 0.4971 - val_accuracy: 0.7560\n",
            "Epoch 6/25\n",
            "133/133 [==============================] - 20s 148ms/step - loss: 0.4685 - accuracy: 0.7843 - val_loss: 0.5348 - val_accuracy: 0.7243\n",
            "Epoch 7/25\n",
            "133/133 [==============================] - 20s 148ms/step - loss: 0.4224 - accuracy: 0.8140 - val_loss: 0.5079 - val_accuracy: 0.7497\n",
            "Epoch 8/25\n",
            "133/133 [==============================] - 20s 148ms/step - loss: 0.3674 - accuracy: 0.8424 - val_loss: 0.5062 - val_accuracy: 0.7613\n",
            "Epoch 9/25\n",
            "133/133 [==============================] - 20s 149ms/step - loss: 0.3258 - accuracy: 0.8636 - val_loss: 0.5425 - val_accuracy: 0.7647\n",
            "Epoch 10/25\n",
            "133/133 [==============================] - 20s 149ms/step - loss: 0.2917 - accuracy: 0.8791 - val_loss: 0.5308 - val_accuracy: 0.7747\n",
            "Epoch 10: early stopping\n"
          ]
        },
        {
          "output_type": "execute_result",
          "data": {
            "text/plain": [
              "<keras.callbacks.History at 0x7f8345f78390>"
            ]
          },
          "metadata": {},
          "execution_count": 36
        }
      ]
    },
    {
      "cell_type": "code",
      "source": [
        "predictions = (model.predict(X_test) > 0.5).astype(\"int32\")"
      ],
      "metadata": {
        "id": "jdqqybiv9VVQ",
        "colab": {
          "base_uri": "https://localhost:8080/"
        },
        "outputId": "5fa5dc30-0d2f-4e00-cc9b-d8692142d01a"
      },
      "execution_count": 40,
      "outputs": [
        {
          "output_type": "stream",
          "name": "stdout",
          "text": [
            "157/157 [==============================] - 2s 13ms/step\n"
          ]
        }
      ]
    },
    {
      "cell_type": "code",
      "source": [
        "from sklearn.metrics import classification_report, confusion_matrix"
      ],
      "metadata": {
        "id": "-MCRs81MGnz6"
      },
      "execution_count": 38,
      "outputs": []
    },
    {
      "cell_type": "code",
      "source": [
        "print(classification_report(y_test, predictions))\n",
        "print(\"\\n\")\n",
        "print(confusion_matrix(y_test, predictions))"
      ],
      "metadata": {
        "colab": {
          "base_uri": "https://localhost:8080/"
        },
        "id": "khsVRbu4G3Aq",
        "outputId": "6ed4e3d4-5607-434d-a053-824f5f7a447e"
      },
      "execution_count": 41,
      "outputs": [
        {
          "output_type": "stream",
          "name": "stdout",
          "text": [
            "              precision    recall  f1-score   support\n",
            "\n",
            "           0       0.77      0.77      0.77      2476\n",
            "           1       0.78      0.77      0.77      2518\n",
            "\n",
            "    accuracy                           0.77      4994\n",
            "   macro avg       0.77      0.77      0.77      4994\n",
            "weighted avg       0.77      0.77      0.77      4994\n",
            "\n",
            "\n",
            "\n",
            "[[1918  558]\n",
            " [ 582 1936]]\n"
          ]
        }
      ]
    }
  ]
}